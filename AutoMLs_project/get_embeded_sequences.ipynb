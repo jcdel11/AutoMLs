{
 "cells": [
  {
   "cell_type": "code",
   "execution_count": null,
   "metadata": {},
   "outputs": [],
   "source": [
    "import torch\n",
    "from pathlib import Path\n",
    "import numpy as np\n",
    "import pandas as pd\n",
    "import h5py\n",
    "from tqdm import tqdm"
   ]
  },
  {
   "cell_type": "markdown",
   "metadata": {},
   "source": [
    "# Load embeddings (TAPE or ESM)"
   ]
  },
  {
   "cell_type": "code",
   "execution_count": null,
   "metadata": {},
   "outputs": [],
   "source": [
    "from tape import ProteinBertModel, TAPETokenizer\n",
    "\n",
    "MODEL_NAME = \"TAPE\"\n",
    "MAGNITUDE_DIM = 768\n",
    "MODEL_MAX_LENGTH = 8192\n",
    "embedding_model = ProteinBertModel.from_pretrained(\"bert-base\").eval().cuda()\n",
    "tokenizer = TAPETokenizer(vocab=\"iupac\")\n",
    "\n",
    "def get_embedding(sequence, L2_norm=False):\n",
    "    sequence = sequence.upper()\n",
    "    token_ids = torch.tensor([tokenizer.encode(sequence)]).cuda()\n",
    "    with torch.no_grad():\n",
    "        sequence_output, pooled_output = embedding_model(token_ids)\n",
    "        sequence_output = sequence_output.mean(dim=1)\n",
    "\n",
    "    if L2_norm:\n",
    "        sequence_output /= sequence_output.norm(dim=1)[:, None]\n",
    "    return sequence_output.cpu().numpy()"
   ]
  },
  {
   "cell_type": "code",
   "execution_count": 1,
   "metadata": {},
   "outputs": [
    {
     "name": "stderr",
     "output_type": "stream",
     "text": [
      "/home/ubuntu/anaconda3/lib/python3.8/site-packages/esm/pretrained.py:112: UserWarning: Regression weights not found, predicting contacts will not produce correct results.\n",
      "  warnings.warn(\"Regression weights not found, predicting contacts will not produce correct results.\")\n"
     ]
    }
   ],
   "source": [
    "import esm\n",
    "\n",
    "MODEL_NAME = \"ESM\"\n",
    "MAGNITUDE_DIM = 1280\n",
    "MODEL_MAX_LENGTH = 1024\n",
    "model_location = \"models/esm1b_t33_650M_UR50S.pt\"\n",
    "model, alphabet = esm.pretrained.load_model_and_alphabet_local(model_location)\n",
    "\n",
    "model = model.cuda()\n",
    "batch_converter = alphabet.get_batch_converter()\n",
    "\n",
    "\n",
    "def get_embedding(sequence):\n",
    "    sequence = sequence.upper()\n",
    "\n",
    "    data = [(\"0\", sequence)]\n",
    "    batch_labels, batch_strs, batch_tokens = batch_converter(data)\n",
    "\n",
    "    with torch.no_grad():\n",
    "        results = model(batch_tokens.cuda(), repr_layers=[33])\n",
    "    token_embeddings = results[\"representations\"][33]\n",
    "    # NOTE: token 0 is always a beginning-of-sequence token, so the first residue is token 1.\n",
    "    sequence_embeddings = (\n",
    "        token_embeddings[0, 1 : len(sequence) + 1].mean(dim=0).cpu().numpy()\n",
    "    )\n",
    "\n",
    "    return sequence_embeddings"
   ]
  },
  {
   "cell_type": "markdown",
   "metadata": {},
   "source": [
    "## Read data in CSV and create h5py"
   ]
  },
  {
   "cell_type": "code",
   "execution_count": 1,
   "metadata": {},
   "outputs": [
    {
     "ename": "NameError",
     "evalue": "name 'MODEL_MAX_LENGTH' is not defined",
     "output_type": "error",
     "traceback": [
      "\u001b[0;31m---------------------------------------------------------------------------\u001b[0m",
      "\u001b[0;31mNameError\u001b[0m                                 Traceback (most recent call last)",
      "Cell \u001b[0;32mIn[1], line 2\u001b[0m\n\u001b[1;32m      1\u001b[0m minimum_length \u001b[38;5;241m=\u001b[39m \u001b[38;5;241m1\u001b[39m\n\u001b[0;32m----> 2\u001b[0m maximum_length \u001b[38;5;241m=\u001b[39m \u001b[43mMODEL_MAX_LENGTH\u001b[49m \u001b[38;5;241m-\u001b[39m \u001b[38;5;241m2\u001b[39m \u001b[38;5;66;03m# remove extra tokens for N and C terminal\u001b[39;00m\n\u001b[1;32m      3\u001b[0m minimum_property \u001b[38;5;241m=\u001b[39m \u001b[38;5;241m0.001\u001b[39m\n\u001b[1;32m      4\u001b[0m maximum_property \u001b[38;5;241m=\u001b[39m \u001b[38;5;241m5000\u001b[39m\n",
      "\u001b[0;31mNameError\u001b[0m: name 'MODEL_MAX_LENGTH' is not defined"
     ]
    }
   ],
   "source": [
    "minimum_length = 1\n",
    "maximum_length = MODEL_MAX_LENGTH - 2 # remove extra tokens for N and C terminal\n",
    "minimum_property = 0.001\n",
    "maximum_property = 5000\n",
    "file_property = Path(\"protein_data.csv\")\n",
    "\n",
    "df_property = pd.read_csv(file_property)\n",
    "df_property[\"SEQ\"] = df_property[\"SEQ\"].str.upper()\n",
    "df_property[\"SEQ_LEN\"] = df_property[\"SEQ\"].apply(len)\n",
    "df_property[\"PROPERTY_LABEL\"] = df_property[\"PROPERTY\"]\n",
    "\n",
    "df_property = df_property.query(\n",
    "    f\"({minimum_property} <= PROPERTY_LABEL <= {maximum_property}) \\\n",
    "    & \\\n",
    "    ({minimum_length} <= SEQ_LEN <= {maximum_length})\"\n",
    ")\n",
    "df_property[\"PROPERTY_LABEL_log10\"] = df_property[\"PROPERTY\"].apply(np.log10)\n",
    "\n",
    "print(df_property.shape) # check shape/size\n",
    "df_property.head() # print head of csv"
   ]
  },
  {
   "cell_type": "code",
   "execution_count": null,
   "metadata": {},
   "outputs": [
    {
     "name": "stderr",
     "output_type": "stream",
     "text": [
      " 70%|██████▉   | 1894/2711 [13:15<04:13,  3.23it/s]"
     ]
    }
   ],
   "source": [
    "# save embeddings\n",
    "\n",
    "sequences = df_property[\"SEQ\"]\n",
    "labels = np.log(df_property[\"PROPERTY_LABEL\"])\n",
    "\n",
    "n_documents = labels.size\n",
    "magnitude_dim = MAGNITUDE_DIM\n",
    "file_save_h5 = (\n",
    "    file_property.parent\n",
    "    / f\"{MODEL_NAME}_{minimum_length}_{maximum_length}_{minimum_property}_{maximum_property}_{file_property.stem}_log_lab.hdf5\"\n",
    ")\n",
    "\n",
    "with h5py.File(str(file_save_h5), \"a\") as file_handler:\n",
    "    dset_labels = file_handler.create_dataset(\n",
    "        \"labels\", (n_documents,), dtype=labels.dtype\n",
    "    )\n",
    "    dset_embeddings = file_handler.create_dataset(\n",
    "        \"embeddings\", (n_documents, magnitude_dim), dtype=\"float32\"\n",
    "    )\n",
    "    for idx, (sequence, label) in enumerate(\n",
    "        tqdm(zip(sequences, labels), total=n_documents)\n",
    "    ):\n",
    "        dset_labels[idx] = label\n",
    "        dset_embeddings[idx] = get_embedding(sequence)"
   ]
  },
  {
   "cell_type": "markdown",
   "metadata": {},
   "source": [
    "## Check data distribution"
   ]
  },
  {
   "cell_type": "code",
   "execution_count": null,
   "metadata": {},
   "outputs": [],
   "source": [
    "from matplotlib import pyplot as plt\n",
    "\n",
    "protyield = np.log(df_abundance[\"Yield\"])\n",
    "\n",
    "#bins = np.arange(np.min(protyield), np.max(protyield), 2)\n",
    "\n",
    "plt.hist(protyield, alpha=0.5)\n",
    "plt.xlabel(\"Yield (ug/ml)\")\n",
    "plt.ylabel(\"Frequency\")\n",
    "plt.show()"
   ]
  }
 ],
 "metadata": {
  "kernelspec": {
   "display_name": "Python 3 (ipykernel)",
   "language": "python",
   "name": "python3"
  },
  "language_info": {
   "codemirror_mode": {
    "name": "ipython",
    "version": 3
   },
   "file_extension": ".py",
   "mimetype": "text/x-python",
   "name": "python",
   "nbconvert_exporter": "python",
   "pygments_lexer": "ipython3",
   "version": "3.10.9"
  }
 },
 "nbformat": 4,
 "nbformat_minor": 4
}
