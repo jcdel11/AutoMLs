{
 "cells": [
  {
   "cell_type": "markdown",
   "metadata": {},
   "source": [
    "## Auto Keras"
   ]
  },
  {
   "cell_type": "code",
   "execution_count": null,
   "metadata": {},
   "outputs": [],
   "source": [
    "import os\n",
    "\n",
    "import tensorflow as tf\n",
    "import autokeras as ak\n",
    "import sklearn"
   ]
  },
  {
   "cell_type": "code",
   "execution_count": null,
   "metadata": {},
   "outputs": [],
   "source": [
    "from sklearn.model_selection import train_test_split, GridSearchCV\n",
    "\n",
    "file_save_h5 = 'SAVED H5PY FILE'\n",
    "\n",
    "with h5py.File(str(file_save_h5), \"r\") as hf:\n",
    "    X = hf[\"embeddings\"][:]\n",
    "    y = hf[\"labels\"][:]\n",
    "\n",
    "X_train, X_test, y_train, y_test = train_test_split(\n",
    "    X,\n",
    "    y, \n",
    "    train_size=0.9,\n",
    "    random_state=22,\n",
    ")\n",
    "\n",
    "# separate into train and test sets\n",
    "X_train, X_test, y_train, y_test = train_test_split(X, y, test_size=0.2, random_state=1)\n",
    "print(X_train.shape, X_test.shape, y_train.shape, y_test.shape)"
   ]
  },
  {
   "cell_type": "code",
   "execution_count": null,
   "metadata": {},
   "outputs": [],
   "source": [
    "input_layer = ak.Input()\n",
    "rnn_layer = ak.RNNBlock(layer_type=\"lstm\")(input_layer)\n",
    "dense_layer = ak.DenseBlock()(rnn_layer)\n",
    "output_layer = ak.RegressionHead()(dense_layer)\n",
    "\n",
    "automodel = ak.AutoModel(input_layer, output_layer, project_name='autokeras_lstm', overwrite=True)\n",
    "automodel.fit(X_train, y_train, validation_split=0.1, epochs=100, batch_size=32)"
   ]
  },
  {
   "cell_type": "code",
   "execution_count": null,
   "metadata": {},
   "outputs": [],
   "source": [
    "# define the search\n",
    "search = ak.StructuredDataRegressor(project_name='property_X', max_trials=100, loss='mean_squared_error')\n",
    "# perform the search\n",
    "search.fit(x=X_train, y=y_train, verbose=1, validation_split=0.1, epochs=200, batch_size=32)"
   ]
  },
  {
   "cell_type": "code",
   "execution_count": null,
   "metadata": {},
   "outputs": [],
   "source": [
    "# evaluate the model\n",
    "mae, _ = search.evaluate(X_test, y_test, verbose=0)\n",
    "print('MSE: %.3f' % mae)"
   ]
  },
  {
   "cell_type": "code",
   "execution_count": null,
   "metadata": {},
   "outputs": [],
   "source": [
    "train_predictions = search.predict(X_train)\n",
    "print(\"Train R2 score:\", sklearn.metrics.r2_score(y_train, train_predictions))\n",
    "test_predictions = search.predict(X_test)\n",
    "print(\"Test R2 score:\", sklearn.metrics.r2_score(y_test, test_predictions))"
   ]
  },
  {
   "cell_type": "code",
   "execution_count": null,
   "metadata": {},
   "outputs": [],
   "source": [
    "train_predictions_list = []\n",
    "\n",
    "for t in train_predictions:\n",
    "    train_predictions_list.append(t[0])\n",
    "    \n",
    "test_predictions_list = []\n",
    "\n",
    "for t in test_predictions:\n",
    "    test_predictions_list.append(t[0])"
   ]
  },
  {
   "cell_type": "code",
   "execution_count": null,
   "metadata": {},
   "outputs": [],
   "source": [
    "corr_train = np.corrcoef(train_predictions_list, y_train)\n",
    "print('Pearsons correlation for training set: %s' % corr_train)\n",
    "corr_test = np.corrcoef(test_predictions_list, y_test)\n",
    "print('Pearsons correlation for training set: %s' % corr_test)"
   ]
  },
  {
   "cell_type": "code",
   "execution_count": null,
   "metadata": {},
   "outputs": [],
   "source": [
    "plt.scatter(train_predictions, y_train, label=\"Train\", c='#00BDE3')\n",
    "plt.scatter(test_predictions, y_test, label=\"Test\", c='#b734eb')\n",
    "plt.xlabel(\"Predicted property\")\n",
    "plt.ylabel(\"True property\")\n",
    "plt.legend()\n",
    "#plt.plot([1.5, 5.0], [0.5, 6.0], c='k', zorder=0)\n",
    "\n",
    "#plt.xlim([2.6, 4.0])\n",
    "#plt.ylim([0, 6.0])\n",
    "plt.tight_layout()\n",
    "plt.savefig('property_autoKeras_best_model_100epochs_100trials_ESM_MSE.png', dpi=300)\n",
    "plt.show()"
   ]
  },
  {
   "cell_type": "markdown",
   "metadata": {},
   "source": [
    "## Export and save model"
   ]
  },
  {
   "cell_type": "code",
   "execution_count": null,
   "metadata": {},
   "outputs": [],
   "source": [
    "model = search.export_model()\n",
    "model.summary()"
   ]
  },
  {
   "cell_type": "code",
   "execution_count": null,
   "metadata": {},
   "outputs": [],
   "source": [
    "try:\n",
    "    model.save(\"property_autoKeras_best_model_100epochs_100trials_ESM_MSE\", save_format=\"tf\")\n",
    "except Exception:\n",
    "    model.save(\"property_autoKeras_best_model_100epochs_100trials_ESM_MSE.h5\")"
   ]
  },
  {
   "cell_type": "code",
   "execution_count": null,
   "metadata": {},
   "outputs": [],
   "source": [
    "from tensorflow.keras.models import load_model\n",
    "\n",
    "loaded_model = load_model(\"property_autoKeras_best_model_100epochs_100trials_ESM_MSE\", custom_objects=ak.CUSTOM_OBJECTS)"
   ]
  },
  {
   "cell_type": "code",
   "execution_count": null,
   "metadata": {},
   "outputs": [],
   "source": [
    "train_predictions = loaded_model.predict(X_train)\n",
    "print(\"Train R2 score:\", sklearn.metrics.r2_score(y_train, train_predictions))\n",
    "test_predictions = loaded_model.predict(X_test)\n",
    "print(\"Test R2 score:\", sklearn.metrics.r2_score(y_test, test_predictions))"
   ]
  }
 ],
 "metadata": {
  "kernelspec": {
   "display_name": "Python 3 (ipykernel)",
   "language": "python",
   "name": "python3"
  },
  "language_info": {
   "codemirror_mode": {
    "name": "ipython",
    "version": 3
   },
   "file_extension": ".py",
   "mimetype": "text/x-python",
   "name": "python",
   "nbconvert_exporter": "python",
   "pygments_lexer": "ipython3",
   "version": "3.10.9"
  }
 },
 "nbformat": 4,
 "nbformat_minor": 4
}
